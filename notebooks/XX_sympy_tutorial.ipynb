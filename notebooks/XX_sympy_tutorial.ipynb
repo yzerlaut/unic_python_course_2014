{
 "cells": [
  {
   "cell_type": "markdown",
   "metadata": {},
   "source": [
    "# Introduction to SymPy\n",
    "\n",
    "\n",
    "### _Let python do the maths !!_\n",
    "\n",
    "SymPy is a Python library for symbolic mathematics. \n",
    "\n",
    "see : http://www.sympy.org/en/index.html\n",
    "\n"
   ]
  },
  {
   "cell_type": "markdown",
   "metadata": {},
   "source": [
    "# Insight from an example : Evaluating the price of an option (in finance)\n",
    "\n",
    "Why an example from financial maths ?\n",
    "\n",
    "- Everyone has a vague idea of the concepts\n",
    "\n",
    "- Very nasty mathematics (in the sense of long calculus) though not conceptually too complex $\\rightarrow$ perfect to illustrate the use of SymPy\n",
    "\n"
   ]
  },
  {
   "cell_type": "markdown",
   "metadata": {},
   "source": [
    "# Some basics around financial products\n",
    "\n",
    "- what is a share ? https://en.wikipedia.org/wiki/Share_%28finance%29\n",
    "\n",
    "- what is an option ? https://en.wikipedia.org/wiki/Option_%28finance%29"
   ]
  },
  {
   "cell_type": "markdown",
   "metadata": {},
   "source": [
    "# The share market"
   ]
  },
  {
   "cell_type": "code",
   "execution_count": 121,
   "metadata": {
    "collapsed": true
   },
   "outputs": [],
   "source": [
    "import numpy as np\n",
    "import matplotlib.pylab as plt\n",
    "%matplotlib inline"
   ]
  },
  {
   "cell_type": "markdown",
   "metadata": {},
   "source": [
    "Let's download the history of the shares of the company \"Google Inc.\" from Sep. 2005 to Sep. 2012\n",
    "\n",
    "of course, google has this :\n",
    "\n",
    "https://www.google.com/finance/historical?cid=694653&startdate=Sep+12%2C+2005&enddate=Sep+11%2C+2012&num=30&ei=EPbyVcDDKNjDUJSCuOAC\n",
    "\n",
    "we download the following spreadsheet :\n",
    "\n",
    "http://www.google.com/finance/historical?cid=694653&startdate=Sep+12%2C+2005&enddate=Sep+11%2C+2012&num=30&ei=EPbyVcDDKNjDUJSCuOAC&output=csv"
   ]
  },
  {
   "cell_type": "code",
   "execution_count": 122,
   "metadata": {
    "collapsed": false
   },
   "outputs": [],
   "source": [
    "# then we open it with numpy, it's a csv file, so you open it with numpy.recfromcsv\n",
    "\n",
    "FILE = '/home/yann/Desktop/googl.csv' # put where you download files\n",
    "\n",
    "GE_raw_data = np.recfromcsv(FILE)\n"
   ]
  },
  {
   "cell_type": "code",
   "execution_count": 123,
   "metadata": {
    "collapsed": false
   },
   "outputs": [
    {
     "data": {
      "text/plain": [
       "('12-Sep-05', 151.03, 155.87, 150.65, 155.02, 10392015)"
      ]
     },
     "execution_count": 123,
     "metadata": {},
     "output_type": "execute_result"
    }
   ],
   "source": [
    "# numpy is so smart, it guesses how the data look like\n",
    "\n",
    "# let's look at the first element\n",
    "GE_raw_data[-1]"
   ]
  },
  {
   "cell_type": "markdown",
   "metadata": {},
   "source": [
    "from the website we know that those values correspond to respectively\n",
    "\n",
    "- Date\n",
    "\n",
    "- Value at market opening\n",
    "\n",
    "- Lowest value during the day\n",
    "\n",
    "- Highest value during the day\n",
    "\n",
    "- Value at market closing\n",
    "\n",
    "- Volume of exchanged shares\n",
    "\n",
    "So let's reformat the data, to have this more clearly\n",
    "\n",
    "in particular, the date is a string, that is not so convenient for plotting !"
   ]
  },
  {
   "cell_type": "code",
   "execution_count": 124,
   "metadata": {
    "collapsed": false
   },
   "outputs": [],
   "source": [
    "data = {} # let's construct the data as a dictionary\n",
    "\n",
    "monthes = np.array(['Jan', 'Feb', 'Mar', 'Apr', 'May', 'Jun', 'Jul', 'Aug', 'Sep', 'Oct', 'Nov', 'Dec'])\n",
    "def convert_month_in_year_fraction(month):\n",
    "    # a month is a twelvth of a year\n",
    "    #return 1./12.*float([0][0])\n",
    "    if len(np.argwhere(monthes==month))==0:\n",
    "        print month\n",
    "    return 1./12.*float(np.argwhere(month==monthes, )[0][0])\n",
    "\n",
    "def convert_day_in_year_fraction(day):\n",
    "    return day/365.\n",
    "\n",
    "data['date'], data['opening'], data['low'], data['high'], data['closing'], data['volume'] = \\\n",
    "       [np.zeros(len(GE_raw_data), dtype=float) for i in range(6)] # we initialize the arrays\n",
    "    \n",
    "    \n",
    "for i in range(len(GE_raw_data)):\n",
    "    # reformating the date\n",
    "    Date = GE_raw_data[i][0]\n",
    "    day, month, year = Date.split('-') # we obtain 3 strings by splitting the date with '-'\n",
    "    data['date'][i] = float(year)+convert_month_in_year_fraction(month)+convert_day_in_year_fraction(float(day))\n",
    "    # then \n",
    "    data['opening'][i], data['low'][i], data['high'][i], data['closing'][i], data['volume'][i] =\\\n",
    "       [GE_raw_data[i][j] for j in range(1,6)] # we initialize the arrays\n",
    "    \n"
   ]
  },
  {
   "cell_type": "code",
   "execution_count": 126,
   "metadata": {
    "collapsed": false
   },
   "outputs": [
    {
     "data": {
      "text/plain": [
       "<matplotlib.text.Text at 0x7f2ad428e310>"
      ]
     },
     "execution_count": 126,
     "metadata": {},
     "output_type": "execute_result"
    },
    {
     "data": {
      "image/png": "[encoded data removed]",
      "text/plain": [
       "<matplotlib.figure.Figure at 0x7f2ad42e0610>"
      ]
     },
     "metadata": {},
     "output_type": "display_data"
    }
   ],
   "source": [
    "fig, ax = plt.subplots(1, figsize=(9,4))\n",
    "ax.plot(2000+data['date'], data['closing'], 'k-', lw=2)\n",
    "plt.fill_between(2000+data['date'], data['closing'], 0*data['closing'], color='lightgray')#to visually enhance positive values ^^\n",
    "plt.grid()\n",
    "ax.set_xlabel('Date (years)')\n",
    "ax.set_ylabel('Share value of Google Inc. (\\$)')\n"
   ]
  },
  {
   "cell_type": "code",
   "execution_count": 129,
   "metadata": {
    "collapsed": false
   },
   "outputs": [
    {
     "data": {
      "text/plain": [
       "<matplotlib.text.Text at 0x7f2ad3ccb250>"
      ]
     },
     "execution_count": 129,
     "metadata": {},
     "output_type": "execute_result"
    },
    {
     "data": {
      "image/png": "[encoded data removed]",
      "text/plain": [
       "<matplotlib.figure.Figure at 0x7f2ad3c9edd0>"
      ]
     },
     "metadata": {},
     "output_type": "display_data"
    }
   ],
   "source": [
    "fig, AX = plt.subplots(1, 2, figsize=(15, 4))\n",
    "AX[0].hist(data['closing'], bins=30)\n",
    "AX[0].set_xlabel('Share value of Google Inc. (\\$)')\n",
    "AX[0].set_ylabel('occurence (days)')"
   ]
  },
  {
   "cell_type": "code",
   "execution_count": null,
   "metadata": {
    "collapsed": true
   },
   "outputs": [],
   "source": []
  },
  {
   "cell_type": "code",
   "execution_count": null,
   "metadata": {
    "collapsed": true
   },
   "outputs": [],
   "source": []
  }
 ],
 "metadata": {
  "kernelspec": {
   "display_name": "Python 2",
   "language": "python",
   "name": "python2"
  },
  "language_info": {
   "codemirror_mode": {
    "name": "ipython",
    "version": 2
   },
   "file_extension": ".py",
   "mimetype": "text/x-python",
   "name": "python",
   "nbconvert_exporter": "python",
   "pygments_lexer": "ipython2",
   "version": "2.7.10"
  }
 },
 "nbformat": 4,
 "nbformat_minor": 0
}
